{
 "cells": [
  {
   "cell_type": "code",
   "execution_count": 16,
   "id": "aeb664ae",
   "metadata": {},
   "outputs": [],
   "source": [
    "from gerrychain import Graph\n",
    "\n",
    "# read West Virginia county graph from the json file \"WV_county.json\"\n",
    "filename = 'WV_county.json'\n",
    "\n",
    "# use built-in GerryChain function to read graph\n",
    "G = Graph.from_json( filename )"
   ]
  },
  {
   "cell_type": "code",
   "execution_count": 2,
   "id": "c97b3416",
   "metadata": {},
   "outputs": [
    {
     "name": "stdout",
     "output_type": "stream",
     "text": [
      "Node 0 is Wyoming County, which has population 21382 and is centered at ( -081.5490317 , +37.6036601 )\n",
      "Node 1 is Braxton County, which has population 12447 and is centered at ( -080.7316597 , +38.6993304 )\n",
      "Node 2 is Roane County, which has population 14028 and is centered at ( -081.3544939 , +38.7429497 )\n",
      "Node 3 is Grant County, which has population 10976 and is centered at ( -079.1950640 , +39.1059882 )\n",
      "Node 4 is Monroe County, which has population 12376 and is centered at ( -080.5503295 , +37.5540622 )\n",
      "Node 5 is Doddridge County, which has population 7808 and is centered at ( -080.7114979 , +39.2643068 )\n",
      "Node 6 is Wirt County, which has population 5194 and is centered at ( -081.3829749 , +39.0200337 )\n",
      "Node 7 is Tyler County, which has population 8313 and is centered at ( -080.8772193 , +39.4656340 )\n",
      "Node 8 is Greenbrier County, which has population 32977 and is centered at ( -080.4505897 , +37.9244177 )\n",
      "Node 9 is Ritchie County, which has population 8444 and is centered at ( -081.0663167 , +39.1771118 )\n",
      "Node 10 is Randolph County, which has population 27932 and is centered at ( -079.8677881 , +38.7810953 )\n",
      "Node 11 is Marion County, which has population 56205 and is centered at ( -080.2434018 , +39.5058387 )\n",
      "Node 12 is Pendleton County, which has population 6143 and is centered at ( -079.3406175 , +38.6744501 )\n",
      "Node 13 is Summers County, which has population 11959 and is centered at ( -080.8563250 , +37.6559986 )\n",
      "Node 14 is Berkeley County, which has population 122076 and is centered at ( -078.0377535 , +39.4479382 )\n",
      "Node 15 is Upshur County, which has population 23816 and is centered at ( -080.2316057 , +38.9025302 )\n",
      "Node 16 is Taylor County, which has population 16705 and is centered at ( -080.0465539 , +39.3324778 )\n",
      "Node 17 is Raleigh County, which has population 74591 and is centered at ( -081.2646719 , +37.7624694 )\n",
      "Node 18 is Nicholas County, which has population 24604 and is centered at ( -080.7975148 , +38.2914318 )\n",
      "Node 19 is Mason County, which has population 25453 and is centered at ( -082.0290067 , +38.7709140 )\n",
      "Node 20 is Gilmer County, which has population 7408 and is centered at ( -080.8494132 , +38.9158671 )\n",
      "Node 21 is Brooke County, which has population 22559 and is centered at ( -080.5786910 , +40.2726454 )\n",
      "Node 22 is Calhoun County, which has population 6229 and is centered at ( -081.1154775 , +38.8441591 )\n",
      "Node 23 is Lincoln County, which has population 20463 and is centered at ( -082.0776231 , +38.1717696 )\n",
      "Node 24 is Ohio County, which has population 42425 and is centered at ( -080.6199004 , +40.1003230 )\n",
      "Node 25 is Morgan County, which has population 17063 and is centered at ( -078.2565175 , +39.5573454 )\n",
      "Node 26 is Kanawha County, which has population 180745 and is centered at ( -081.5235156 , +38.3280675 )\n",
      "Node 27 is Lewis County, which has population 17033 and is centered at ( -080.4954773 , +38.9888773 )\n",
      "Node 28 is Mingo County, which has population 23568 and is centered at ( -082.1589891 , +37.7211608 )\n",
      "Node 29 is Wayne County, which has population 38982 and is centered at ( -082.4226659 , +38.1436416 )\n",
      "Node 30 is Pocahontas County, which has population 7869 and is centered at ( -080.0101207 , +38.3326060 )\n",
      "Node 31 is Putnam County, which has population 57440 and is centered at ( -081.9061090 , +38.5105179 )\n",
      "Node 32 is Wetzel County, which has population 14442 and is centered at ( -080.6353994 , +39.5981800 )\n",
      "Node 33 is Boone County, which has population 21809 and is centered at ( -081.7135382 , +38.0228143 )\n",
      "Node 34 is Cabell County, which has population 94350 and is centered at ( -082.2433966 , +38.4195778 )\n",
      "Node 35 is Marshall County, which has population 30591 and is centered at ( -080.6717944 , +39.8544259 )\n",
      "Node 36 is Jackson County, which has population 27791 and is centered at ( -081.6777168 , +38.8342339 )\n",
      "Node 37 is Monongalia County, which has population 105822 and is centered at ( -080.0590736 , +39.6336448 )\n",
      "Node 38 is Mineral County, which has population 26938 and is centered at ( -078.9566899 , +39.4047806 )\n",
      "Node 39 is Hancock County, which has population 29095 and is centered at ( -080.5701643 , +40.5169584 )\n",
      "Node 40 is Preston County, which has population 34216 and is centered at ( -079.6688649 , +39.4690296 )\n",
      "Node 41 is Hardy County, which has population 14299 and is centered at ( -078.8417292 , +39.0113612 )\n",
      "Node 42 is Wood County, which has population 84296 and is centered at ( -081.5162340 , +39.2116023 )\n",
      "Node 43 is Webster County, which has population 8378 and is centered at ( -080.4490515 , +38.4834590 )\n",
      "Node 44 is Hampshire County, which has population 23093 and is centered at ( -078.6119886 , +39.3121395 )\n",
      "Node 45 is McDowell County, which has population 19111 and is centered at ( -081.6582040 , +37.3827604 )\n",
      "Node 46 is Harrison County, which has population 65921 and is centered at ( -080.3864982 , +39.2791820 )\n",
      "Node 47 is Barbour County, which has population 15465 and is centered at ( -079.9969466 , +39.1397248 )\n",
      "Node 48 is Tucker County, which has population 6762 and is centered at ( -079.5599678 , +39.1111751 )\n",
      "Node 49 is Clay County, which has population 8051 and is centered at ( -081.0818663 , +38.4598259 )\n",
      "Node 50 is Logan County, which has population 32567 and is centered at ( -081.9408530 , +37.8305905 )\n",
      "Node 51 is Pleasants County, which has population 7653 and is centered at ( -081.1611724 , +39.3681331 )\n",
      "Node 52 is Fayette County, which has population 40488 and is centered at ( -081.0860508 , +38.0309328 )\n",
      "Node 53 is Jefferson County, which has population 57701 and is centered at ( -077.8632200 , +39.3073985 )\n",
      "Node 54 is Mercer County, which has population 59664 and is centered at ( -081.1064560 , +37.4034477 )\n"
     ]
    }
   ],
   "source": [
    "# for each node, print the node #, county name, population and lat-long coordinates\n",
    "for node in G.nodes:\n",
    "    name = G.nodes[node]['NAME20']\n",
    "    population = G.nodes[node]['P0010001']\n",
    "    G.nodes[node]['TOTPOP'] = population\n",
    "    \n",
    "    G.nodes[node]['C_X'] = G.nodes[node]['INTPTLON20'] # longitude of county's center\n",
    "    G.nodes[node]['C_Y'] = G.nodes[node]['INTPTLAT20'] # latitude of county's center\n",
    "    \n",
    "    print(\"Node\",node,\"is\",name,\"County, which has population\",population,\"and is centered at (\",G.nodes[node]['C_X'],\",\",G.nodes[node]['C_Y'],\")\")"
   ]
  },
  {
   "cell_type": "code",
   "execution_count": 3,
   "id": "2bf0741d",
   "metadata": {},
   "outputs": [
    {
     "name": "stdout",
     "output_type": "stream",
     "text": [
      "Using L = 892374 and U = 901342 and k = 2\n"
     ]
    }
   ],
   "source": [
    "# impose a 1% population deviation (+/- 0.5%)\n",
    "deviation = 0.01\n",
    "\n",
    "import math\n",
    "k = 2          # number of districts\n",
    "total_population = sum( G.nodes[node]['TOTPOP'] for node in G.nodes )\n",
    "\n",
    "L = math.ceil( ( 1 - deviation / 2 ) * total_population / k )\n",
    "U = math.floor( ( 1 + deviation / 2 ) * total_population / k )\n",
    "print( \"Using L =\",L,\"and U =\",U,\"and k =\",k )"
   ]
  },
  {
   "cell_type": "code",
   "execution_count": 4,
   "id": "12687b23",
   "metadata": {},
   "outputs": [],
   "source": [
    "# create distance dictionary\n",
    "from geopy.distance import geodesic\n",
    "\n",
    "dist = { (i,j) : 0 for i in G.nodes for j in G.nodes }\n",
    "for i in G.nodes:\n",
    "    for j in G.nodes:\n",
    "        loc_i = ( G.nodes[i]['C_Y'],G.nodes[i]['C_X'] )\n",
    "        loc_j = ( G.nodes[j]['C_Y'],G.nodes[j]['C_X'] )\n",
    "        dist[i,j] = geodesic( loc_i,loc_j ).miles"
   ]
  },
  {
   "cell_type": "code",
   "execution_count": 5,
   "id": "9bc945dd",
   "metadata": {},
   "outputs": [
    {
     "name": "stdout",
     "output_type": "stream",
     "text": [
      "Set parameter Username\n",
      "Academic license - for non-commercial use only - expires 2023-01-22\n"
     ]
    }
   ],
   "source": [
    "import gurobipy as gp\n",
    "from gurobipy import GRB\n",
    "\n",
    "# create model\n",
    "m = gp.Model()\n",
    "\n",
    "# create x[i,j] variable which equals one when county i is assigned to (the district centered at) county j\n",
    "x = m.addVars(G.nodes, G.nodes, vtype=GRB.BINARY)"
   ]
  },
  {
   "cell_type": "code",
   "execution_count": 6,
   "id": "9aecea9e",
   "metadata": {},
   "outputs": [],
   "source": [
    "# set objective to minimize the moment of inertia\n",
    "m.setObjective( gp.quicksum( dist[i,j] * dist[i,j] * G.nodes[i]['TOTPOP'] * x[i,j] for i in G.nodes for j in G.nodes ), GRB.MINIMIZE )"
   ]
  },
  {
   "cell_type": "code",
   "execution_count": 7,
   "id": "0c846b3b",
   "metadata": {},
   "outputs": [],
   "source": [
    "# add constraints saying that each county i is assigned to one district\n",
    "m.addConstrs( gp.quicksum( x[i,j] for j in G.nodes ) == 1 for i in G.nodes )\n",
    "\n",
    "# add constraint saying there should be k district centers\n",
    "m.addConstr( gp.quicksum( x[j,j] for j in G.nodes ) == k )\n",
    "\n",
    "# add constraints that say: if j roots a district, then its population is between L and U.\n",
    "m.addConstrs( gp.quicksum( G.nodes[i]['TOTPOP'] * x[i,j] for i in G.nodes ) >= L * x[j,j] for j in G.nodes )\n",
    "m.addConstrs( gp.quicksum( G.nodes[i]['TOTPOP'] * x[i,j] for i in G.nodes ) <= U * x[j,j] for j in G.nodes )\n",
    "\n",
    "# add coupling constraints saying that if i is assigned to j, then j is a center.\n",
    "m.addConstrs( x[i,j] <= x[j,j] for i in G.nodes for j in G.nodes )\n",
    "\n",
    "m.update()"
   ]
  },
  {
   "cell_type": "code",
   "execution_count": 8,
   "id": "3dccac97",
   "metadata": {},
   "outputs": [],
   "source": [
    "# add contiguity constraints\n",
    "import networkx as nx\n",
    "DG = nx.DiGraph(G)\n",
    "\n",
    "# add flow variables\n",
    "f = m.addVars( DG.edges, G.nodes ) # f[i,j,v] = flow across arc (i,j) that is sent from root v\n",
    "\n",
    "# add constraints saying that if node i is assigned to node j, then node i must consume one unit of node j's flow\n",
    "m.addConstrs( gp.quicksum( f[u,i,j] - f[i,u,j] for u in G.neighbors(i) ) == x[i,j] for i in G.nodes for j in G.nodes if i != j )\n",
    "\n",
    "# add constraints saying that node i can recieve flow of type j only if node i is assigned to node j\n",
    "M = G.number_of_nodes() - 1\n",
    "m.addConstrs( gp.quicksum( f[u,i,j] for u in G.neighbors(i) ) <= M * x[i,j] for i in G.nodes for j in G.nodes if i!= j )\n",
    "\n",
    "# add constraints saying that node j cannot recieve flow of its own type\n",
    "m.addConstrs( gp.quicksum( f[u,j,j] for u in G.neighbors(j) ) == 0 for j in G.nodes )\n",
    "\n",
    "m.update()"
   ]
  },
  {
   "cell_type": "code",
   "execution_count": 9,
   "id": "da5bb968",
   "metadata": {},
   "outputs": [
    {
     "name": "stdout",
     "output_type": "stream",
     "text": [
      "Set parameter MIPGap to value 0\n",
      "Gurobi Optimizer version 9.5.0 build v9.5.0rc5 (win64)\n",
      "Thread count: 6 physical cores, 12 logical processors, using up to 12 threads\n",
      "Optimize a model with 9186 rows, 16775 columns and 61760 nonzeros\n",
      "Model fingerprint: 0x67732ac5\n",
      "Variable types: 13750 continuous, 3025 integer (3025 binary)\n",
      "Coefficient statistics:\n",
      "  Matrix range     [1e+00, 9e+05]\n",
      "  Objective range  [1e+06, 8e+09]\n",
      "  Bounds range     [1e+00, 1e+00]\n",
      "  RHS range        [1e+00, 2e+00]\n",
      "Warning: Model contains large objective coefficients\n",
      "         Consider reformulating model or setting NumericFocus parameter\n",
      "         to avoid numerical issues.\n",
      "Presolve removed 536 rows and 930 columns\n",
      "Presolve time: 0.22s\n",
      "Presolved: 8650 rows, 15845 columns, 59411 nonzeros\n",
      "Variable types: 12769 continuous, 3076 integer (3025 binary)\n",
      "\n",
      "Root relaxation: objective 5.221255e+09, 1629 iterations, 0.09 seconds (0.11 work units)\n",
      "\n",
      "    Nodes    |    Current Node    |     Objective Bounds      |     Work\n",
      " Expl Unexpl |  Obj  Depth IntInf | Incumbent    BestBd   Gap | It/Node Time\n",
      "\n",
      "     0     0 5.2213e+09    0    2          - 5.2213e+09      -     -    0s\n",
      "H    0     0                    5.491309e+09 5.2213e+09  4.92%     -    0s\n",
      "H    0     0                    5.319803e+09 5.2213e+09  1.85%     -    0s\n",
      "     0     0 5.2896e+09    0    8 5.3198e+09 5.2896e+09  0.57%     -    0s\n",
      "     0     0 5.2896e+09    0    1 5.3198e+09 5.2896e+09  0.57%     -    0s\n",
      "H    0     0                    5.319445e+09 5.2896e+09  0.56%     -    0s\n",
      "\n",
      "Cutting planes:\n",
      "  Cover: 2\n",
      "  Implied bound: 1\n",
      "  MIR: 2\n",
      "  Flow cover: 3\n",
      "\n",
      "Explored 1 nodes (1683 simplex iterations) in 0.67 seconds (0.54 work units)\n",
      "Thread count was 12 (of 12 available processors)\n",
      "\n",
      "Solution count 3: 5.31944e+09 5.3198e+09 5.49131e+09 \n",
      "\n",
      "Optimal solution found (tolerance 0.00e+00)\n",
      "Best objective 5.319444696425e+09, best bound 5.319444696425e+09, gap 0.0000%\n"
     ]
    }
   ],
   "source": [
    "# solve, with a 0.00% MIP gap tolerance\n",
    "m.Params.MIPGap = 0.0\n",
    "\n",
    "m.optimize()"
   ]
  },
  {
   "cell_type": "code",
   "execution_count": 10,
   "id": "c383ae46",
   "metadata": {},
   "outputs": [
    {
     "name": "stdout",
     "output_type": "stream",
     "text": [
      "The objective value is = 5319444696.425297\n",
      "\n",
      "District 0 has population 899947 and contains counties ['Wyoming', 'Roane', 'Monroe', 'Summers', 'Raleigh', 'Nicholas', 'Mason', 'Calhoun', 'Lincoln', 'Kanawha', 'Mingo', 'Wayne', 'Putnam', 'Boone', 'Cabell', 'Jackson', 'Wood', 'McDowell', 'Clay', 'Logan', 'Fayette', 'Mercer']\n",
      "\n",
      "District 1 has population 893769 and contains counties ['Braxton', 'Grant', 'Doddridge', 'Wirt', 'Tyler', 'Greenbrier', 'Ritchie', 'Randolph', 'Marion', 'Pendleton', 'Berkeley', 'Upshur', 'Taylor', 'Gilmer', 'Brooke', 'Ohio', 'Morgan', 'Lewis', 'Pocahontas', 'Wetzel', 'Marshall', 'Monongalia', 'Mineral', 'Hancock', 'Preston', 'Hardy', 'Webster', 'Hampshire', 'Harrison', 'Barbour', 'Tucker', 'Pleasants', 'Jefferson']\n",
      "\n",
      "The deviation between the districts is 6178 persons.\n"
     ]
    }
   ],
   "source": [
    "# print the objective value\n",
    "print('The objective value is =',m.objVal)\n",
    "print('')\n",
    "\n",
    "# retrieve the district \"centers\"\n",
    "centers = [ j for j in G.nodes if x[j,j].x > 0.5 ]\n",
    "\n",
    "# retrieve the districts and their populations\n",
    "districts = [ [ i for i in G.nodes if x[i,j].x > 0.5 ] for j in centers ]\n",
    "district_counties = [ [ G.nodes[i][\"NAME20\"] for i in districts[j] ] for j in range(k) ]\n",
    "district_populations = [ sum( G.nodes[i][\"TOTPOP\"] for i in districts[j] ) for j in range(k) ]\n",
    "\n",
    "# print district info\n",
    "for j in range(k):\n",
    "    print(\"District\",j,\"has population\",district_populations[j],\"and contains counties\",district_counties[j])\n",
    "    print(\"\")\n",
    "\n",
    "# print deviation between districts\n",
    "print(\"The deviation between the districts is\",abs( district_populations[0]-district_populations[1] ),\"persons.\" )"
   ]
  },
  {
   "cell_type": "code",
   "execution_count": 12,
   "id": "ce001659",
   "metadata": {},
   "outputs": [],
   "source": [
    "# read West Virginia shapefile from \"WV_county.shp\" to draw it on a map\n",
    "import geopandas as gpd\n",
    "\n",
    "filename = 'WV_county.shp'\n",
    "\n",
    "# read geopandas dataframe from file\n",
    "df = gpd.read_file( filename )"
   ]
  },
  {
   "cell_type": "code",
   "execution_count": 13,
   "id": "dc8a4344",
   "metadata": {},
   "outputs": [
    {
     "data": {
      "image/png": "[encoded data removed]",
      "text/plain": [
       "<Figure size 432x288 with 1 Axes>"
      ]
     },
     "metadata": {
      "needs_background": "light"
     },
     "output_type": "display_data"
    }
   ],
   "source": [
    "# county i is assigned to district j\n",
    "assignment = [ -1 for i in G.nodes ]\n",
    "\n",
    "labeling = { i : -1 for i in G.nodes }\n",
    "for j in range(k):\n",
    "    district = districts[j]\n",
    "    for i in district:\n",
    "        labeling[i] = j\n",
    "\n",
    "\n",
    "# add the assignments to a column of the dataframe and map it\n",
    "node_with_this_geoid = {G.nodes[i]['GEOID20'] : i for i in G.nodes}\n",
    "\n",
    "# pick a position u in the dataframe\n",
    "for u in range(G.number_of_nodes()):\n",
    "    \n",
    "    geoid = df['GEOID20'][u]\n",
    "    \n",
    "    # what node in G has this geoid?\n",
    "    i = node_with_this_geoid[geoid]\n",
    "    \n",
    "    # position u in the dataframe should be given the same district # that county i has in 'labeling'\n",
    "    assignment[u] = labeling[i] \n",
    "\n",
    "# now add the assignments to a column of our dataframe and then map it\n",
    "df['assignment'] = assignment\n",
    "\n",
    "my_fig = df.plot(column='assignment').get_figure()"
   ]
  },
  {
   "cell_type": "code",
   "execution_count": null,
   "id": "98fb2490",
   "metadata": {},
   "outputs": [],
   "source": []
  }
 ],
 "metadata": {
  "kernelspec": {
   "display_name": "Python 3 (ipykernel)",
   "language": "python",
   "name": "python3"
  },
  "language_info": {
   "codemirror_mode": {
    "name": "ipython",
    "version": 3
   },
   "file_extension": ".py",
   "mimetype": "text/x-python",
   "name": "python",
   "nbconvert_exporter": "python",
   "pygments_lexer": "ipython3",
   "version": "3.9.7"
  }
 },
 "nbformat": 4,
 "nbformat_minor": 5
}
